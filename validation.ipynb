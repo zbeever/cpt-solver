{
 "cells": [
  {
   "cell_type": "code",
   "execution_count": 1,
   "metadata": {},
   "outputs": [],
   "source": [
    "from core import *\n",
    "import logging\n",
    "# %matplotlib notebook\n",
    "\n",
    "plt.rc('text', usetex=True)\n",
    "plt.rc('font', family='serif')"
   ]
  },
  {
   "cell_type": "markdown",
   "metadata": {},
   "source": [
    "VELOCITY TEST"
   ]
  },
  {
   "cell_type": "code",
   "execution_count": 2,
   "metadata": {},
   "outputs": [
    {
     "name": "stderr",
     "output_type": "stream",
     "text": [
      "No handles with labels found to put in legend.\n"
     ]
    },
    {
     "name": "stdout",
     "output_type": "stream",
     "text": [
      "59307.67463867528\n"
     ]
    },
    {
     "data": {
      "image/png": "[encoded data removed]",
      "text/plain": [
       "<Figure size 432x288 with 1 Axes>"
      ]
     },
     "metadata": {
      "needs_background": "light"
     },
     "output_type": "display_data"
    }
   ],
   "source": [
    "T = 1\n",
    "dt = 1e-3\n",
    "system = Solver(BorisNonrel(dt))\n",
    "\n",
    "nonrel_electron = Particle(np.array([0., 0., 0.]), np.array([1., 0., 0.]), 1e-2, -qe, me)\n",
    "system.add_particle(nonrel_electron)\n",
    "\n",
    "system.solve(T, ['velocity'])\n",
    "print(nonrel_electron.history['velocity'][-1, 0])\n",
    "system.plot_2d(['velocity'])"
   ]
  },
  {
   "cell_type": "markdown",
   "metadata": {},
   "source": [
    "A nonrelativistic electron at $K = 10^{-2}\\,\\text{eV}$ should have a velocity of $$v = \\sqrt{2K/m} = (3\\cdot10^8\\,\\text{m/s})\\sqrt{\\frac{2\\cdot 10^{-2}\\,\\text{eV}}{5.11\\cdot10^{5}\\,\\text{eV}}} = 5.93\\cdot10^{4}\\,\\text{m/s}$$\n",
    "which is what we find above."
   ]
  },
  {
   "cell_type": "code",
   "execution_count": 3,
   "metadata": {},
   "outputs": [
    {
     "name": "stderr",
     "output_type": "stream",
     "text": [
      "No handles with labels found to put in legend.\n"
     ]
    },
    {
     "name": "stdout",
     "output_type": "stream",
     "text": [
      "282288700.22381395\n"
     ]
    },
    {
     "data": {
      "image/png": "[encoded data removed]",
      "text/plain": [
       "<Figure size 432x288 with 1 Axes>"
      ]
     },
     "metadata": {
      "needs_background": "light"
     },
     "output_type": "display_data"
    }
   ],
   "source": [
    "T = 1\n",
    "dt = 1e-3\n",
    "system = Solver(BorisRel(dt))\n",
    "\n",
    "rel_electron = Particle(np.array([0., 0., 0.]), np.array([1., 0., 0.]), 1e6, -qe, me)\n",
    "system.add_particle(rel_electron)\n",
    "\n",
    "system.solve(T, ['velocity'])\n",
    "print(rel_electron.history['velocity'][-1, 0])\n",
    "system.plot_2d(['velocity'])"
   ]
  },
  {
   "cell_type": "markdown",
   "metadata": {},
   "source": [
    "A relativistic electron at $K = 10^{6}\\,\\text{eV}$ should have a velocity of $$v = \\frac{c}{\\gamma}\\sqrt{\\gamma^2 - 1}$$ where $\\gamma = 1 + K/mc^2$. In the above case, we have $$\\gamma = 1 + \\frac{10^6\\,\\text{eV}}{5.11\\cdot10^5\\,\\text{eV}} = 2.957$$ and so $$v = \\frac{3\\cdot10^8\\,\\text{m/s}}{2.957}\\sqrt{2.957^2 - 1} = \n"
   ]
  },
  {
   "cell_type": "code",
   "execution_count": null,
   "metadata": {},
   "outputs": [],
   "source": []
  }
 ],
 "metadata": {
  "kernelspec": {
   "display_name": "Python 3",
   "language": "python",
   "name": "python3"
  },
  "language_info": {
   "codemirror_mode": {
    "name": "ipython",
    "version": 3
   },
   "file_extension": ".py",
   "mimetype": "text/x-python",
   "name": "python",
   "nbconvert_exporter": "python",
   "pygments_lexer": "ipython3",
   "version": "3.7.5"
  }
 },
 "nbformat": 4,
 "nbformat_minor": 2
}
