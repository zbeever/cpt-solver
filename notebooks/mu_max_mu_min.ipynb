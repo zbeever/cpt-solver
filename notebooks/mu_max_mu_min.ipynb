{
 "cells": [
  {
   "cell_type": "code",
   "execution_count": 1,
   "metadata": {},
   "outputs": [
    {
     "name": "stdout",
     "output_type": "stream",
     "text": [
      "Load IGRF coefficients ...\n"
     ]
    }
   ],
   "source": [
    "from system import *\n",
    "from math import floor\n",
    "from mpl_toolkits.axes_grid1 import make_axes_locatable\n",
    "import matplotlib.colors as color\n",
    "\n",
    "plt.rcParams.update({'font.size': 18})\n",
    "\n",
    "e_field = zero_field()\n",
    "b_field = t89(1)\n",
    "system  = System(e_field, b_field)"
   ]
  },
  {
   "cell_type": "code",
   "execution_count": 200,
   "metadata": {},
   "outputs": [],
   "source": [
    "degs = []\n",
    "min_pas = []\n",
    "max_pas = []"
   ]
  },
  {
   "cell_type": "code",
   "execution_count": 348,
   "metadata": {},
   "outputs": [
    {
     "name": "stderr",
     "output_type": "stream",
     "text": [
      "100%|██████████| 500/500 [00:02<00:00, 242.05it/s]\n"
     ]
    }
   ],
   "source": [
    "deg = 89.99\n",
    "\n",
    "system.populate_by_eq_pa(500,\n",
    "                         delta(12),\n",
    "                         delta(2e6),\n",
    "                         delta(np.radians(deg)),\n",
    "                         uniform(0, 2*np.pi)\n",
    "                        )"
   ]
  },
  {
   "cell_type": "code",
   "execution_count": 349,
   "metadata": {},
   "outputs": [
    {
     "name": "stderr",
     "output_type": "stream",
     "text": [
      "100%|██████████| 500/500 [00:45<00:00, 11.02it/s]\n"
     ]
    }
   ],
   "source": [
    "system.solve(1, 1e-4)"
   ]
  },
  {
   "cell_type": "code",
   "execution_count": 350,
   "metadata": {},
   "outputs": [],
   "source": [
    "pas = pitch_angle(system.history)\n",
    "v   = velocity(system.history)\n",
    "rr  = position(system.history)\n",
    "b   = b_mag(system.history)\n",
    "mom = eq_pitch_angle_from_moment(system.history, system.ics[:, 4, 0:2])\n",
    "\n",
    "adp_grid = np.zeros((len(system.history[:, 0, 0, 0]), len(system.history[0, :, 0, 0])))\n",
    "pa_grid  = np.zeros((len(system.history[:, 0, 0, 0]), len(system.history[0, :, 0, 0])))\n",
    "\n",
    "for i in range(len(rr[:, 0])):\n",
    "    for j in range(len(rr[0, :])):\n",
    "        rho_o          = gamma(v[i, j]) * sp.m_e * np.linalg.norm(v[i, j]) / (abs(-sp.e) * b[i, j])\n",
    "        R_c            = flc(b_field, rr[i, j])\n",
    "        adp_grid[i, j] = rho_o / R_c\n",
    "        pa_grid[i, j]  = pas[i, j]"
   ]
  },
  {
   "cell_type": "code",
   "execution_count": 351,
   "metadata": {},
   "outputs": [],
   "source": [
    "scattered_pas = np.zeros(len(system.history[:, 0, 0, 0]))\n",
    "\n",
    "for i in range(len(system.history[:, 0, 0, 0])):\n",
    "    near_mirror = np.argwhere(np.abs(pa_grid[i, :] - 90) <= 1)[:, 0]\n",
    "    ind = np.argwhere(adp_grid[i, near_mirror] < 0.1)[:, 0]\n",
    "    if len(near_mirror[ind]) < 2:\n",
    "        scattered_pas[i] = 0\n",
    "        continue\n",
    "    elif near_mirror[ind][0] > 10:\n",
    "        scattered_pas[i] = (0.5*np.sin(np.radians(mom[i, near_mirror[ind][0]]))**2) / (0.5 * np.sin(np.radians(deg))**2)\n",
    "    else:\n",
    "        scattered_pas[i] = (0.5*np.sin(np.radians(mom[i, near_mirror[ind][1]]))**2) / (0.5 * np.sin(np.radians(deg))**2)"
   ]
  },
  {
   "cell_type": "code",
   "execution_count": 352,
   "metadata": {},
   "outputs": [],
   "source": [
    "spas = scattered_pas[np.where(scattered_pas != 0)]\n",
    "min_pa, max_pa = (np.amin(spas), np.amax(spas))"
   ]
  },
  {
   "cell_type": "code",
   "execution_count": 353,
   "metadata": {},
   "outputs": [],
   "source": [
    "degs.append(deg)\n",
    "min_pas.append(min_pa)\n",
    "max_pas.append(max_pa)"
   ]
  },
  {
   "cell_type": "code",
   "execution_count": null,
   "metadata": {},
   "outputs": [],
   "source": [
    "from scipy.interpolate import make_interp_spline, BSpline\n",
    "\n",
    "smooth = 17 # Original: 17\n",
    "\n",
    "spl_min = make_interp_spline(degs[:], min_pas[:], k=3)\n",
    "power_smooth_min = spl_min(np.linspace(degs[0], degs[-1], smooth))\n",
    "spl_max = make_interp_spline(degs[:], max_pas[:], k=3)\n",
    "power_smooth_max = spl_max(np.linspace(degs[0], degs[-1], smooth))\n",
    "\n",
    "plt.figure(figsize=(10, 8))\n",
    "plt.plot(np.linspace(degs[0], degs[-1], smooth), power_smooth_min, color='m', label=r'$\\mu_{min}$')\n",
    "plt.plot(np.linspace(degs[0], degs[-1], smooth), power_smooth_max, color='r', label=r'$\\mu_{max}$')\n",
    "plt.legend()\n",
    "plt.xlim([10, 90])\n",
    "plt.ylim(1e-2, 2)\n",
    "plt.yscale('log')\n",
    "plt.ylabel(r'$\\mu / \\mu_0$')\n",
    "plt.xlabel(r'Initial $\\alpha_0$ (deg)')\n",
    "plt.title('Final vs. initial $\\mu$ (2 MeV e$^-$)')\n",
    "plt.grid(which='both')\n",
    "plt.show()"
   ]
  },
  {
   "cell_type": "code",
   "execution_count": null,
   "metadata": {},
   "outputs": [],
   "source": []
  }
 ],
 "metadata": {
  "kernelspec": {
   "display_name": "Python 3",
   "language": "python",
   "name": "python3"
  },
  "language_info": {
   "codemirror_mode": {
    "name": "ipython",
    "version": 3
   },
   "file_extension": ".py",
   "mimetype": "text/x-python",
   "name": "python",
   "nbconvert_exporter": "python",
   "pygments_lexer": "ipython3",
   "version": "3.7.5"
  }
 },
 "nbformat": 4,
 "nbformat_minor": 4
}
